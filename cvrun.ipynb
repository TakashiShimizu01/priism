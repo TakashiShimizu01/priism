{
 "cells": [
  {
   "cell_type": "code",
   "execution_count": null,
   "metadata": {},
   "outputs": [],
   "source": [
    "%matplotlib inline"
   ]
  },
  {
   "cell_type": "code",
   "execution_count": null,
   "metadata": {},
   "outputs": [],
   "source": [
    "import os\n",
    "from casatasks import split, listobs\n",
    "\n",
    "# overwrite output data if it exists\n",
    "os.system('rm -rf twhya_smoothed.ms')\n",
    "os.system('rm -f twhya_smoothed.listobs.txt')\n",
    "\n",
    "split(vis='sis14_twhya_calibrated_flagged.ms', field='5', width='8', outputvis='twhya_smoothed.ms', datacolumn='data')\n",
    "\n",
    "listobs('twhya_smoothed.ms', verbose=True, listfile='twhya_smoothed.listobs.txt')"
   ]
  },
  {
   "cell_type": "code",
   "execution_count": null,
   "metadata": {},
   "outputs": [],
   "source": [
    "import priism.alma"
   ]
  },
  {
   "cell_type": "code",
   "execution_count": null,
   "metadata": {},
   "outputs": [],
   "source": [
    "worker = priism.alma.AlmaSparseModelingImager(solver='mfista_nufft')"
   ]
  },
  {
   "cell_type": "code",
   "execution_count": null,
   "metadata": {},
   "outputs": [],
   "source": [
    "worker.selectdata(vis='twhya_smoothed.ms',\n",
    "                  spw='0:24',\n",
    "                  intent='OBSERVE_TARGET#ON_SOURCE',\n",
    "                  datacolumn='data')"
   ]
  },
  {
   "cell_type": "code",
   "execution_count": null,
   "metadata": {},
   "outputs": [],
   "source": [
    "worker.defineimage(imsize=[250, 250],\n",
    "                   cell=['0.08arcsec'],\n",
    "                   phasecenter='0',  # TW Hya\n",
    "                   nchan=1,\n",
    "                   start=0,\n",
    "                   width=1)"
   ]
  },
  {
   "cell_type": "code",
   "execution_count": null,
   "metadata": {},
   "outputs": [],
   "source": [
    "%%timeit -n 1 -r 1\n",
    "\n",
    "worker.readvis()"
   ]
  },
  {
   "cell_type": "code",
   "execution_count": null,
   "metadata": {},
   "outputs": [],
   "source": [
    "%%timeit -n 1 -r 1\n",
    "\n",
    "# 4min 30s ± 8.57 s per loop (mean ± std. dev. of 7 runs, 1 loop each)\n",
    "worker.solve(l1=1e0, ltsv=1e8, maxiter=1000)"
   ]
  },
  {
   "cell_type": "code",
   "execution_count": null,
   "metadata": {},
   "outputs": [],
   "source": [
    "worker.exportimage(imagename='myimage.fits', overwrite=True)"
   ]
  },
  {
   "cell_type": "code",
   "execution_count": null,
   "metadata": {
    "scrolled": false
   },
   "outputs": [],
   "source": [
    "# CV elapsed 6905.8 sec\n",
    "L1_list = [1e2, 1e4, 1e6]\n",
    "Ltsv_list = [1e6, 1e8, 1e10]\n",
    "num_fold = 4\n",
    "\n",
    "worker.crossvalidation(L1_list, Ltsv_list, num_fold=num_fold,\n",
    "                       imageprefix='mycvresult', imagepolicy='full',\n",
    "                       summarize=True, figfile='cvresult.png',\n",
    "                       datafile='cvresult.dat', maxiter=1000)\n"
   ]
  }
 ],
 "metadata": {
  "kernelspec": {
   "display_name": "Python 3",
   "language": "python",
   "name": "python3"
  },
  "language_info": {
   "codemirror_mode": {
    "name": "ipython",
    "version": 3
   },
   "file_extension": ".py",
   "mimetype": "text/x-python",
   "name": "python",
   "nbconvert_exporter": "python",
   "pygments_lexer": "ipython3",
   "version": "3.6.3"
  }
 },
 "nbformat": 4,
 "nbformat_minor": 4
}
